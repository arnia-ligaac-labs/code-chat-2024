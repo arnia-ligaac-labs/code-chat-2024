{
 "cells": [
  {
   "cell_type": "markdown",
   "metadata": {},
   "source": [
    "# Configuring `Output Parsers` to customize output\n",
    "\n",
    "- We can configure the output parsers to customize the output of the chatbot.\n",
    "- Return output as simple string for printing, or as a list / object for complex parsing downstream in multimodal agents / other applications"
   ]
  },
  {
   "cell_type": "markdown",
   "metadata": {},
   "source": [
    "## Import dependencies"
   ]
  },
  {
   "cell_type": "code",
   "execution_count": 1,
   "metadata": {},
   "outputs": [],
   "source": [
    "var Bedrock = require('@langchain/community/llms/bedrock').Bedrock;\n",
    "var ChatPromptTemplate = require('@langchain/core/prompts').ChatPromptTemplate;\n",
    "var StringOutputParser = require('@langchain/core/output_parsers').StringOutputParser;\n",
    "var CommaSeparatedListOutputParser = require('@langchain/core/output_parsers').CommaSeparatedListOutputParser;\n",
    "var StructuredOutputParser = require('langchain/output_parsers').StructuredOutputParser;"
   ]
  },
  {
   "cell_type": "markdown",
   "metadata": {},
   "source": [
    "## Instantiate the `model` client"
   ]
  },
  {
   "cell_type": "code",
   "execution_count": 13,
   "metadata": {},
   "outputs": [],
   "source": [
    "var model = new Bedrock({\n",
    "    model_id:'amazon.titan-text-express-v1',\n",
    "    temperature: 0,\n",
    "    maxTokenCount: 1024,\n",
    "    topP: 0.9,\n",
    "    verbose: true\n",
    "});"
   ]
  },
  {
   "cell_type": "markdown",
   "metadata": {},
   "source": [
    "## Create prompt template (string/list)"
   ]
  },
  {
   "cell_type": "code",
   "execution_count": null,
   "metadata": {},
   "outputs": [],
   "source": [
    "var promptMessages = ChatPromptTemplate.fromTemplate(\n",
    "    \"Provide 5 synonyms, separated by commas, for the following word {input}\"\n",
    ");\n",
    "// var promptMessages = prompts.ChatPromptTemplate.fromMessages([\n",
    "//     [\"system\", \"Output only 5 words which are synonyms, separated by commas, with no other words for the following word {input}.\"],\n",
    "//     [\"user\", \"{input}\"]\n",
    "// ]);"
   ]
  },
  {
   "cell_type": "code",
   "execution_count": null,
   "metadata": {},
   "outputs": [],
   "source": [
    "var input = \"dog\";"
   ]
  },
  {
   "cell_type": "markdown",
   "metadata": {},
   "source": [
    "## Create output parser (string)"
   ]
  },
  {
   "cell_type": "code",
   "execution_count": null,
   "metadata": {},
   "outputs": [],
   "source": [
    "var outputParserString = new StringOutputParser();"
   ]
  },
  {
   "cell_type": "markdown",
   "metadata": {},
   "source": [
    "## Create a chain (string)\n",
    "\n",
    "- We send the prompt to the model (pipe it)"
   ]
  },
  {
   "cell_type": "code",
   "execution_count": null,
   "metadata": {},
   "outputs": [],
   "source": [
    "var chainOutputString = promptMessages.pipe(model).pipe(outputParserString);"
   ]
  },
  {
   "cell_type": "markdown",
   "metadata": {},
   "source": [
    "## Invoke LLM\n",
    "\n",
    "- Given input we invoke LLM and get 5 synonyms using output parser `StringOutputParser`"
   ]
  },
  {
   "cell_type": "code",
   "execution_count": null,
   "metadata": {},
   "outputs": [],
   "source": [
    "chainOutputString.invoke({input}).then((output) => console.log(output));"
   ]
  },
  {
   "cell_type": "markdown",
   "metadata": {},
   "source": [
    "## Create output parser (string list)"
   ]
  },
  {
   "cell_type": "code",
   "execution_count": null,
   "metadata": {},
   "outputs": [],
   "source": [
    "var outputParserStringList = new CommaSeparatedListOutputParser();"
   ]
  },
  {
   "cell_type": "markdown",
   "metadata": {},
   "source": [
    "## Create a chain (string list)\n",
    "\n",
    "- We send the prompt to the model (pipe it), and the model to the output parser"
   ]
  },
  {
   "cell_type": "code",
   "execution_count": null,
   "metadata": {},
   "outputs": [],
   "source": [
    "var chainOutputStringList = promptMessages.pipe(model).pipe(outputParserStringList);"
   ]
  },
  {
   "cell_type": "markdown",
   "metadata": {},
   "source": [
    "## Invoke LLM\n",
    "\n",
    "- Given input we invoke LLM and get 5 synonyms using output parser `CommaSeparatedListOutputParser`"
   ]
  },
  {
   "cell_type": "code",
   "execution_count": null,
   "metadata": {},
   "outputs": [],
   "source": [
    "chainOutputStringList.invoke({input}).then((output) => console.log(output));"
   ]
  },
  {
   "cell_type": "markdown",
   "metadata": {},
   "source": [
    "## Create output parser (structured, basic, 1 level)\n",
    "\n",
    "- Given a well known structure, we instruct the LLM to extract from given `input` values that would fit the specified description."
   ]
  },
  {
   "cell_type": "code",
   "execution_count": null,
   "metadata": {},
   "outputs": [],
   "source": [
    "var outputParserStructuredBasic = StructuredOutputParser.fromNamesAndDescriptions({\n",
    "    name: 'the name of the person',\n",
    "    age: 'the age of the person'\n",
    "})"
   ]
  },
  {
   "cell_type": "markdown",
   "metadata": {},
   "source": [
    "## Formatted instruction output"
   ]
  },
  {
   "cell_type": "code",
   "execution_count": null,
   "metadata": {},
   "outputs": [],
   "source": [
    "console.log(outputParserStructuredBasic.getFormatInstructions());"
   ]
  },
  {
   "cell_type": "markdown",
   "metadata": {},
   "source": [
    "## Create prompt template (structured)\n",
    "\n",
    "- We need to configure template to accept formatting instructions as well as a new imperative system message."
   ]
  },
  {
   "cell_type": "code",
   "execution_count": 7,
   "metadata": {},
   "outputs": [],
   "source": [
    "var promptStructured = ChatPromptTemplate.fromTemplate(`\n",
    "    Extract information from the following phrase.\n",
    "    Formatting instructions: {format_instructions}\n",
    "    Phrase: {input}\n",
    "`);"
   ]
  },
  {
   "cell_type": "markdown",
   "metadata": {},
   "source": [
    "## Create a chain (structured, basic)\n",
    "\n",
    "- We send the prompt to the model (pipe it), and the model to the output parser"
   ]
  },
  {
   "cell_type": "code",
   "execution_count": null,
   "metadata": {},
   "outputs": [],
   "source": [
    "var chainOutputStructured = promptStructured.pipe(model).pipe(outputParserStructuredBasic);"
   ]
  },
  {
   "cell_type": "markdown",
   "metadata": {},
   "source": [
    "## The new input\n",
    "\n",
    "- For the structured basic output parser"
   ]
  },
  {
   "cell_type": "code",
   "execution_count": null,
   "metadata": {},
   "outputs": [],
   "source": [
    "var input = 'Max is 30 years old.';"
   ]
  },
  {
   "cell_type": "markdown",
   "metadata": {},
   "source": [
    "## Invoke LLM\n",
    "\n",
    "- Given input we invoke LLM and get object containing `{name:<value>, age:<value>}`"
   ]
  },
  {
   "cell_type": "code",
   "execution_count": null,
   "metadata": {},
   "outputs": [],
   "source": [
    "chainOutputStructured.invoke({\n",
    "    input,\n",
    "    format_instructions: outputParserStructured.getFormatInstructions()\n",
    "}).then((output) => {\n",
    "    console.log(output);\n",
    "    console.log(typeof output);\n",
    "});"
   ]
  },
  {
   "cell_type": "markdown",
   "metadata": {},
   "source": [
    "## Create output parser (structured, advanced, multilevel)\n",
    "\n",
    "- Given a well known structure, we instruct the LLM to extract from given `input` values that would fit the specified description.\n",
    "- We need to install `zod`\n",
    "\n",
    "```shell\n",
    "yarn add zod\n",
    "```"
   ]
  },
  {
   "cell_type": "markdown",
   "metadata": {},
   "source": [
    "## Import dependencies"
   ]
  },
  {
   "cell_type": "code",
   "execution_count": 3,
   "metadata": {},
   "outputs": [],
   "source": [
    "var z = require('zod').z;"
   ]
  },
  {
   "cell_type": "code",
   "execution_count": 4,
   "metadata": {},
   "outputs": [],
   "source": [
    "var outputParserStructuredAdvanced = StructuredOutputParser.fromZodSchema(\n",
    "    z.object({\n",
    "        recipe: z.string().describe(\"the name of the recipe\"),\n",
    "        ingredients: z.array(z.string()).describe(\"ingredients\"),\n",
    "    })\n",
    ");"
   ]
  },
  {
   "cell_type": "markdown",
   "metadata": {},
   "source": [
    "## Formatted instruction output"
   ]
  },
  {
   "cell_type": "code",
   "execution_count": 5,
   "metadata": {},
   "outputs": [
    {
     "name": "stdout",
     "output_type": "stream",
     "text": [
      "You must format your output as a JSON value that adheres to a given \"JSON Schema\" instance.\n",
      "\n",
      "\"JSON Schema\" is a declarative language that allows you to annotate and validate JSON documents.\n",
      "\n",
      "For example, the example \"JSON Schema\" instance {{\"properties\": {{\"foo\": {{\"description\": \"a list of test words\", \"type\": \"array\", \"items\": {{\"type\": \"string\"}}}}}}, \"required\": [\"foo\"]}}}}\n",
      "would match an object with one required property, \"foo\". The \"type\" property specifies \"foo\" must be an \"array\", and the \"description\" property semantically describes it as \"a list of test words\". The items within \"foo\" must be strings.\n",
      "Thus, the object {{\"foo\": [\"bar\", \"baz\"]}} is a well-formatted instance of this example \"JSON Schema\". The object {{\"properties\": {{\"foo\": [\"bar\", \"baz\"]}}}} is not well-formatted.\n",
      "\n",
      "Your output will be parsed and type-checked according to the provided schema instance, so make sure all fields in your output match the schema exactly and there are no trailing commas!\n",
      "\n",
      "Here is the JSON Schema instance your output must adhere to. Include the enclosing markdown codeblock:\n",
      "```json\n",
      "{\"type\":\"object\",\"properties\":{\"recipe\":{\"type\":\"string\",\"description\":\"the name of the recipe\"},\"ingredients\":{\"type\":\"array\",\"items\":{\"type\":\"string\"},\"description\":\"ingredients\"}},\"required\":[\"recipe\",\"ingredients\"],\"additionalProperties\":false,\"$schema\":\"http://json-schema.org/draft-07/schema#\"}\n",
      "```\n",
      "\n"
     ]
    }
   ],
   "source": [
    "console.log(outputParserStructuredAdvanced.getFormatInstructions());"
   ]
  },
  {
   "cell_type": "markdown",
   "metadata": {},
   "source": [
    "## Create a chain (structured, advanced)\n",
    "\n",
    "- We send the prompt to the model (pipe it), and the model to the output parser"
   ]
  },
  {
   "cell_type": "code",
   "execution_count": 8,
   "metadata": {},
   "outputs": [],
   "source": [
    "var chainOutputStructuredAdvanced = promptStructured.pipe(model).pipe(outputParserStructuredAdvanced);"
   ]
  },
  {
   "cell_type": "markdown",
   "metadata": {},
   "source": [
    "## The new input\n",
    "\n",
    "- For the structured advanced output parser"
   ]
  },
  {
   "cell_type": "code",
   "execution_count": 9,
   "metadata": {},
   "outputs": [],
   "source": [
    "var input = \"The ingredients for a Spaghetti Bolognese recipe are tomatoes, minced beef, garlic and pasta.\";"
   ]
  },
  {
   "cell_type": "markdown",
   "metadata": {},
   "source": [
    "## Invoke LLM\n",
    "\n",
    "- Given input we invoke LLM and get object containing `{recipe:<value>, ingredients:[<value>]}`"
   ]
  },
  {
   "cell_type": "code",
   "execution_count": null,
   "metadata": {},
   "outputs": [
    {
     "data": {
      "text/plain": [
       "Promise { <pending> }"
      ]
     },
     "execution_count": 14,
     "metadata": {},
     "output_type": "execute_result"
    },
    {
     "name": "stdout",
     "output_type": "stream",
     "text": [
      "\u001b[32m[llm/start]\u001b[39m [\u001b[90m\u001b[1m1:llm:Bedrock\u001b[22m\u001b[39m] Entering LLM run with input: {\n",
      "  \"prompts\": [\n",
      "    \"Human: \\n    Extract information from the following phrase.\\n    Formatting instructions: You must format your output as a JSON value that adheres to a given \\\"JSON Schema\\\" instance.\\n\\n\\\"JSON Schema\\\" is a declarative language that allows you to annotate and validate JSON documents.\\n\\nFor example, the example \\\"JSON Schema\\\" instance {{\\\"properties\\\": {{\\\"foo\\\": {{\\\"description\\\": \\\"a list of test words\\\", \\\"type\\\": \\\"array\\\", \\\"items\\\": {{\\\"type\\\": \\\"string\\\"}}}}}}, \\\"required\\\": [\\\"foo\\\"]}}}}\\nwould match an object with one required property, \\\"foo\\\". The \\\"type\\\" property specifies \\\"foo\\\" must be an \\\"array\\\", and the \\\"description\\\" property semantically describes it as \\\"a list of test words\\\". The items within \\\"foo\\\" must be strings.\\nThus, the object {{\\\"foo\\\": [\\\"bar\\\", \\\"baz\\\"]}} is a well-formatted instance of this example \\\"JSON Schema\\\". The object {{\\\"properties\\\": {{\\\"foo\\\": [\\\"bar\\\", \\\"baz\\\"]}}}} is not well-formatted.\\n\\nYour output will be parsed and type-checked according to the provided schema instance, so make sure all fields in your output match the schema exactly and there are no trailing commas!\\n\\nHere is the JSON Schema instance your output must adhere to. Include the enclosing markdown codeblock:\\n```json\\n{\\\"type\\\":\\\"object\\\",\\\"properties\\\":{\\\"recipe\\\":{\\\"type\\\":\\\"string\\\",\\\"description\\\":\\\"the name of the recipe\\\"},\\\"ingredients\\\":{\\\"type\\\":\\\"array\\\",\\\"items\\\":{\\\"type\\\":\\\"string\\\"},\\\"description\\\":\\\"ingredients\\\"}},\\\"required\\\":[\\\"recipe\\\",\\\"ingredients\\\"],\\\"additionalProperties\\\":false,\\\"$schema\\\":\\\"http://json-schema.org/draft-07/schema#\\\"}\\n```\\n\\n    Phrase: The ingredients for a Spaghetti Bolognese recipe are tomatoes, minced beef, garlic and pasta.\"\n",
      "  ]\n",
      "}\n",
      "\u001b[36m[llm/end]\u001b[39m [\u001b[90m\u001b[1m1:llm:Bedrock\u001b[22m\u001b[39m] [3.39s] Exiting LLM run with output: {\n",
      "  \"generations\": [\n",
      "    [\n",
      "      {\n",
      "        \"text\": \"\\n```json\\n{\\n    \\\"recipe\\\": \\\"Spaghetti Bolognese\\\",\\n    \\\"ingredients\\\": [\\n        \\\"tomatoes\\\",\\n        \\\"minced beef\\\",\\n        \\\"garlic\\\",\\n        \\\"pasta\\\"\\n    ]\\n\"\n",
      "      }\n",
      "    ]\n",
      "  ]\n",
      "}\n"
     ]
    },
    {
     "name": "stderr",
     "output_type": "stream",
     "text": [
      "Error: Failed to parse. Text: \"\n",
      "```json\n",
      "{\n",
      "    \"recipe\": \"Spaghetti Bolognese\",\n",
      "    \"ingredients\": [\n",
      "        \"tomatoes\",\n",
      "        \"minced beef\",\n",
      "        \"garlic\",\n",
      "        \"pasta\"\n",
      "    ]\n",
      "\". Error: SyntaxError: Expected ',' or '}' after property value in JSON at position 143\n",
      "    at StructuredOutputParser.parse (/workspace/node_modules/langchain/dist/output_parsers/structured.cjs:83:19)\n",
      "    at StructuredOutputParser.parseResult (/workspace/node_modules/@langchain/core/dist/output_parsers/base.cjs:60:21)\n",
      "    at StructuredOutputParser._callWithConfig (/workspace/node_modules/@langchain/core/dist/output_parsers/base.cjs:42:72)\n",
      "    at StructuredOutputParser._callWithConfig (/workspace/node_modules/@langchain/core/dist/runnables/base.cjs:214:33)\n",
      "    at process.processTicksAndRejections (node:internal/process/task_queues:95:5)\n",
      "    at async RunnableSequence.invoke (/workspace/node_modules/@langchain/core/dist/runnables/base.cjs:1056:27)"
     ]
    }
   ],
   "source": [
    "chainOutputStructuredAdvanced.invoke({\n",
    "    input,\n",
    "    format_instructions: outputParserStructuredAdvanced.getFormatInstructions()\n",
    "}).then((output) => {\n",
    "    console.log(output);\n",
    "    console.log(typeof output);\n",
    "});"
   ]
  }
 ],
 "metadata": {
  "kernelspec": {
   "display_name": "JavaScript (Node.js)",
   "language": "javascript",
   "name": "javascript"
  },
  "language_info": {
   "file_extension": ".js",
   "mimetype": "application/javascript",
   "name": "javascript",
   "version": "20.12.2"
  }
 },
 "nbformat": 4,
 "nbformat_minor": 2
}
