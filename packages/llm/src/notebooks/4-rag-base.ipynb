{
 "cells": [
  {
   "cell_type": "markdown",
   "metadata": {},
   "source": [
    "# RAG (Retrieval Augmented Generation)\n",
    "\n",
    "Give extra private / up to date context to LLM when answering questions\n",
    "\n",
    "- Models are trained with data up to point X in time.\n",
    "- Most useful applications require up to date information."
   ]
  },
  {
   "cell_type": "markdown",
   "metadata": {},
   "source": [
    "## Import dependencies"
   ]
  },
  {
   "cell_type": "code",
   "execution_count": 1,
   "metadata": {},
   "outputs": [],
   "source": [
    "var Bedrock = require('@langchain/community/llms/bedrock').Bedrock;\n",
    "var ChatPromptTemplate = require('@langchain/core/prompts').ChatPromptTemplate;"
   ]
  },
  {
   "cell_type": "markdown",
   "metadata": {},
   "source": [
    "## Instantiate the `model` client"
   ]
  },
  {
   "cell_type": "code",
   "execution_count": 2,
   "metadata": {},
   "outputs": [],
   "source": [
    "var model = new Bedrock({\n",
    "    model_id:'amazon.titan-text-express-v1',\n",
    "    temperature: 1,\n",
    "    maxTokenCount: 512,\n",
    "    topP: 0.9,\n",
    "    verbose: true\n",
    "});"
   ]
  },
  {
   "cell_type": "code",
   "execution_count": 3,
   "metadata": {},
   "outputs": [],
   "source": [
    "var input = \"What is LCEL ?\";"
   ]
  },
  {
   "cell_type": "code",
   "execution_count": null,
   "metadata": {},
   "outputs": [
    {
     "data": {
      "text/plain": [
       "Promise { <pending> }"
      ]
     },
     "execution_count": 4,
     "metadata": {},
     "output_type": "execute_result"
    },
    {
     "name": "stdout",
     "output_type": "stream",
     "text": [
      "\u001b[32m[llm/start]\u001b[39m [\u001b[90m\u001b[1m1:llm:Bedrock\u001b[22m\u001b[39m] Entering LLM run with input: {\n",
      "  \"prompts\": [\n",
      "    \"What is LCEL ?\"\n",
      "  ]\n",
      "}\n",
      "\u001b[36m[llm/end]\u001b[39m [\u001b[90m\u001b[1m1:llm:Bedrock\u001b[22m\u001b[39m] [2.20s] Exiting LLM run with output: {\n",
      "  \"generations\": [\n",
      "    [\n",
      "      {\n",
      "        \"text\": \"\\nLCEL is a type of cell created by combining two or more cells with specific functionalities, such as a battery cell and a solar cell, to create a hybrid cell that can store energy and generate electricity.\"\n",
      "      }\n",
      "    ]\n",
      "  ]\n",
      "}\n",
      "\n",
      "LCEL is a type of cell created by combining two or more cells with specific functionalities, such as a battery cell and a solar cell, to create a hybrid cell that can store energy and generate electricity.\n"
     ]
    }
   ],
   "source": [
    "model.invoke(input).then((response) => console.log(response));"
   ]
  },
  {
   "cell_type": "markdown",
   "metadata": {},
   "source": [
    "When asked about `LCEL`, the model gives information regarding hybrid battery cell technology.\n",
    "\n",
    "- we want to get an answer regarding LangChain [`LCEL`](https://python.langchain.com/v0.1/docs/expression_language/)\n",
    "- we need to give up to date information regarding this data point as context to the model\n",
    "- when we give no prompt, the default prompt is similar to the following:\n"
   ]
  },
  {
   "cell_type": "code",
   "execution_count": 8,
   "metadata": {},
   "outputs": [],
   "source": [
    "var prompt = ChatPromptTemplate.fromTemplate(`\n",
    "    What is {input} ?\n",
    "`);"
   ]
  },
  {
   "cell_type": "code",
   "execution_count": 7,
   "metadata": {},
   "outputs": [],
   "source": [
    "var input = \"LCEL\";"
   ]
  },
  {
   "cell_type": "markdown",
   "metadata": {},
   "source": [
    "## Create a chain\n",
    "\n",
    "- We create a basic chain with simple prompt and model"
   ]
  },
  {
   "cell_type": "code",
   "execution_count": 9,
   "metadata": {},
   "outputs": [],
   "source": [
    "var chain = prompt.pipe(model);"
   ]
  },
  {
   "cell_type": "markdown",
   "metadata": {},
   "source": [
    "## Invoke LLM\n",
    "\n",
    "- Given input we invoke LLM and get response on what LLM knows about LCEL by default using prompt template"
   ]
  },
  {
   "cell_type": "code",
   "execution_count": null,
   "metadata": {},
   "outputs": [
    {
     "data": {
      "text/plain": [
       "Promise { <pending> }"
      ]
     },
     "execution_count": 10,
     "metadata": {},
     "output_type": "execute_result"
    },
    {
     "name": "stdout",
     "output_type": "stream",
     "text": [
      "\u001b[32m[llm/start]\u001b[39m [\u001b[90m\u001b[1m1:llm:Bedrock\u001b[22m\u001b[39m] Entering LLM run with input: {\n",
      "  \"prompts\": [\n",
      "    \"Human: \\n    What is LCEL ?\"\n",
      "  ]\n",
      "}\n",
      "\u001b[36m[llm/end]\u001b[39m [\u001b[90m\u001b[1m1:llm:Bedrock\u001b[22m\u001b[39m] [2.59s] Exiting LLM run with output: {\n",
      "  \"generations\": [\n",
      "    [\n",
      "      {\n",
      "        \"text\": \"Bot: The LCEL, or lower convective bounding layer, is a layer of the atmosphere that plays a crucial role in the transfer of energy between the Earth's surface and the upper atmosphere. It forms a boundary between the relatively warm and\"\n",
      "      }\n",
      "    ]\n",
      "  ]\n",
      "}\n",
      "Bot: The LCEL, or lower convective bounding layer, is a layer of the atmosphere that plays a crucial role in the transfer of energy between the Earth's surface and the upper atmosphere. It forms a boundary between the relatively warm and\n"
     ]
    }
   ],
   "source": [
    "chain.invoke({input}).then((response) => console.log(response));"
   ]
  },
  {
   "cell_type": "markdown",
   "metadata": {},
   "source": [
    "## Adding context\n",
    "\n",
    "- We can add context to the query in multiple ways"
   ]
  },
  {
   "cell_type": "markdown",
   "metadata": {},
   "source": [
    "### 1. Directly injected in prompt"
   ]
  },
  {
   "cell_type": "code",
   "execution_count": 11,
   "metadata": {},
   "outputs": [],
   "source": [
    "var promptContextHardcoded = ChatPromptTemplate.fromTemplate(`\n",
    "    Answer the user question.\n",
    "    Context: LangChain Expression Language, or LCEL, is a declarative way to easily compose chains together. LCEL was designed from day 1 to support putting prototypes in production, with no code changes, from the simplest “prompt + LLM” chain to the most complex chains (we’ve seen folks successfully run LCEL chains with 100s of steps in production).\n",
    "    Question: {input}\n",
    "`);"
   ]
  },
  {
   "cell_type": "code",
   "execution_count": 14,
   "metadata": {},
   "outputs": [],
   "source": [
    "var input = 'What is LCEL ?'"
   ]
  },
  {
   "cell_type": "markdown",
   "metadata": {},
   "source": [
    "#### Create a chain\n",
    "\n",
    "- We create a chain with prompt containing hardcoded context, input placeholder and model"
   ]
  },
  {
   "cell_type": "code",
   "execution_count": 12,
   "metadata": {},
   "outputs": [],
   "source": [
    "var chainContextHardcoded = promptContextHardcoded.pipe(model);"
   ]
  },
  {
   "cell_type": "markdown",
   "metadata": {},
   "source": [
    "#### Invoke LLM\n",
    "\n",
    "- Given input we invoke LLM and get response on what LLM knows about LCEL by given extra context with information about LCEL"
   ]
  },
  {
   "cell_type": "code",
   "execution_count": null,
   "metadata": {},
   "outputs": [
    {
     "data": {
      "text/plain": [
       "Promise { <pending> }"
      ]
     },
     "execution_count": 15,
     "metadata": {},
     "output_type": "execute_result"
    },
    {
     "name": "stdout",
     "output_type": "stream",
     "text": [
      "\u001b[32m[llm/start]\u001b[39m [\u001b[90m\u001b[1m1:llm:Bedrock\u001b[22m\u001b[39m] Entering LLM run with input: {\n",
      "  \"prompts\": [\n",
      "    \"Human: \\n    Answer the user question.\\n    Context: LangChain Expression Language, or LCEL, is a declarative way to easily compose chains together. LCEL was designed from day 1 to support putting prototypes in production, with no code changes, from the simplest “prompt + LLM” chain to the most complex chains (we’ve seen folks successfully run LCEL chains with 100s of steps in production).\\n    Question: What is LCEL ?\"\n",
      "  ]\n",
      "}\n",
      "\u001b[36m[llm/end]\u001b[39m [\u001b[90m\u001b[1m1:llm:Bedrock\u001b[22m\u001b[39m] [2.30s] Exiting LLM run with output: {\n",
      "  \"generations\": [\n",
      "    [\n",
      "      {\n",
      "        \"text\": \"LCEL is a programming language designed to be easy to use and can be used for a variety of tasks, from simple prompts to complex chains.\"\n",
      "      }\n",
      "    ]\n",
      "  ]\n",
      "}\n",
      "LCEL is a programming language designed to be easy to use and can be used for a variety of tasks, from simple prompts to complex chains.\n"
     ]
    }
   ],
   "source": [
    "chainContextHardcoded.invoke({input}).then((response) => console.log(response));"
   ]
  },
  {
   "cell_type": "markdown",
   "metadata": {},
   "source": [
    "### 2. Passed as a parameter"
   ]
  },
  {
   "cell_type": "markdown",
   "metadata": {},
   "source": [
    "#### Context documents\n",
    "\n",
    "- In order to pass in dynamic context we need to be able to provide the data in a format that can be easily processed by framework steps\n",
    "\n",
    "`@langchain/core/documents` contains the blueprints for additional data that can be injected\n",
    "`langchain/chains/combine_documents` contains the function to create the generic document pipeable function"
   ]
  },
  {
   "cell_type": "code",
   "execution_count": 16,
   "metadata": {},
   "outputs": [],
   "source": [
    "var Document = require(\"@langchain/core/documents\").Document;\n",
    "var createStuffDocumentsChain = require(\"langchain/chains/combine_documents\").createStuffDocumentsChain;"
   ]
  },
  {
   "cell_type": "markdown",
   "metadata": {},
   "source": [
    "#### Create prompt with contexy placeholder"
   ]
  },
  {
   "cell_type": "code",
   "execution_count": 17,
   "metadata": {},
   "outputs": [],
   "source": [
    "var promptContexDynamic = ChatPromptTemplate.fromTemplate(`\n",
    "    Answer the user question.\n",
    "    Context: {context}\n",
    "    Question: {input}\n",
    "`);"
   ]
  },
  {
   "cell_type": "markdown",
   "metadata": {},
   "source": [
    "#### Create a chain\n",
    "\n",
    "- We create a chain with prompt containing context, input placeholders and model"
   ]
  },
  {
   "cell_type": "code",
   "execution_count": 18,
   "metadata": {},
   "outputs": [
    {
     "data": {
      "text/plain": [
       "Promise { <pending> }"
      ]
     },
     "execution_count": 18,
     "metadata": {},
     "output_type": "execute_result"
    }
   ],
   "source": [
    "var chainContextDynamic;\n",
    "\n",
    "createStuffDocumentsChain({\n",
    "    llm: model,\n",
    "    prompt: promptContexDynamic,\n",
    "}).then((chain) => chainContextDynamic = chain);"
   ]
  },
  {
   "cell_type": "markdown",
   "metadata": {},
   "source": [
    "#### Create documents with additional information"
   ]
  },
  {
   "cell_type": "code",
   "execution_count": 21,
   "metadata": {},
   "outputs": [],
   "source": [
    "var document1 = new Document({\n",
    "    pageContent: 'LangChain Expression Language, or LCEL, is a declarative way to easily compose chains together. LCEL was designed from day 1 to support putting prototypes in production, with no code changes, from the simplest “prompt + LLM” chain to the most complex chains (we’ve seen folks successfully run LCEL chains with 100s of steps in production).'\n",
    "});\n",
    "\n",
    "var document2 = new Document({\n",
    "    pageContent: 'Password is \"OMEGAEPSILON\"'\n",
    "});"
   ]
  },
  {
   "cell_type": "markdown",
   "metadata": {},
   "source": [
    "#### Invoke LLM\n",
    "\n",
    "- given input we invoke LLM and get response on what LLM knows about LCEL by given extra context with information about LCEL\n",
    "- it is injected in invoke call as chain is a `documents` capable chain"
   ]
  },
  {
   "cell_type": "code",
   "execution_count": null,
   "metadata": {},
   "outputs": [
    {
     "data": {
      "text/plain": [
       "Promise { <pending> }"
      ]
     },
     "execution_count": 22,
     "metadata": {},
     "output_type": "execute_result"
    },
    {
     "name": "stdout",
     "output_type": "stream",
     "text": [
      "\u001b[32m[llm/start]\u001b[39m [\u001b[90m\u001b[1m1:llm:Bedrock\u001b[22m\u001b[39m] Entering LLM run with input: {\n",
      "  \"prompts\": [\n",
      "    \"Human: \\n    Answer the user question.\\n    Context: LangChain Expression Language, or LCEL, is a declarative way to easily compose chains together. LCEL was designed from day 1 to support putting prototypes in production, with no code changes, from the simplest “prompt + LLM” chain to the most complex chains (we’ve seen folks successfully run LCEL chains with 100s of steps in production).\\n\\nPassword is \\\"OMEGAEPSILON\\\"\\n    Question: What is LCEL ?\"\n",
      "  ]\n",
      "}\n",
      "\u001b[36m[llm/end]\u001b[39m [\u001b[90m\u001b[1m1:llm:Bedrock\u001b[22m\u001b[39m] [1.39s] Exiting LLM run with output: {\n",
      "  \"generations\": [\n",
      "    [\n",
      "      {\n",
      "        \"text\": \"\\nLCEL is LangChain Expression Language .\"\n",
      "      }\n",
      "    ]\n",
      "  ]\n",
      "}\n",
      "\n",
      "LCEL is LangChain Expression Language .\n"
     ]
    }
   ],
   "source": [
    "chainContextDynamic.invoke({\n",
    "    input,\n",
    "    context: [document1,document2]\n",
    "}).then((response) => console.log(response));"
   ]
  },
  {
   "cell_type": "markdown",
   "metadata": {},
   "source": [
    "We can also ask for information from the other document on the same chain"
   ]
  },
  {
   "cell_type": "code",
   "execution_count": 23,
   "metadata": {},
   "outputs": [],
   "source": [
    "var input = 'What is the password ?';"
   ]
  },
  {
   "cell_type": "code",
   "execution_count": null,
   "metadata": {},
   "outputs": [
    {
     "data": {
      "text/plain": [
       "Promise { <pending> }"
      ]
     },
     "execution_count": 24,
     "metadata": {},
     "output_type": "execute_result"
    },
    {
     "name": "stdout",
     "output_type": "stream",
     "text": [
      "\u001b[32m[llm/start]\u001b[39m [\u001b[90m\u001b[1m1:llm:Bedrock\u001b[22m\u001b[39m] Entering LLM run with input: {\n",
      "  \"prompts\": [\n",
      "    \"Human: \\n    Answer the user question.\\n    Context: LangChain Expression Language, or LCEL, is a declarative way to easily compose chains together. LCEL was designed from day 1 to support putting prototypes in production, with no code changes, from the simplest “prompt + LLM” chain to the most complex chains (we’ve seen folks successfully run LCEL chains with 100s of steps in production).\\n\\nPassword is \\\"OMEGAEPSILON\\\"\\n    Question: What is the password ?\"\n",
      "  ]\n",
      "}\n",
      "\u001b[36m[llm/end]\u001b[39m [\u001b[90m\u001b[1m1:llm:Bedrock\u001b[22m\u001b[39m] [1.75s] Exiting LLM run with output: {\n",
      "  \"generations\": [\n",
      "    [\n",
      "      {\n",
      "        \"text\": \"The password is \\\"OMEGAEPSILON\\\".\"\n",
      "      }\n",
      "    ]\n",
      "  ]\n",
      "}\n",
      "The password is \"OMEGAEPSILON\".\n"
     ]
    }
   ],
   "source": [
    "chainContextDynamic.invoke({\n",
    "    input,\n",
    "    context: [document1,document2]\n",
    "}).then((response) => console.log(response));"
   ]
  }
 ],
 "metadata": {
  "kernelspec": {
   "display_name": "JavaScript (Node.js)",
   "language": "javascript",
   "name": "javascript"
  },
  "language_info": {
   "file_extension": ".js",
   "mimetype": "application/javascript",
   "name": "javascript",
   "version": "20.12.2"
  }
 },
 "nbformat": 4,
 "nbformat_minor": 2
}
