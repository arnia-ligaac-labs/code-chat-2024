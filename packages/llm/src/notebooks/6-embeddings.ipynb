{
 "cells": [
  {
   "cell_type": "markdown",
   "metadata": {},
   "source": [
    "# Embeddings\n",
    "\n",
    "![Embeddings](./images/6-embeddings-model.png)\n",
    "\n",
    "\n",
    "## What are embeddings ?\n",
    "- numerical vectors.\n",
    "- computers, models cannot interpret information intelligibly in their raw format and require numerical data as input\n",
    "- vectors are numerical values that represent information in a multi-dimensional space.\n",
    "\n",
    "\n",
    "- numerical representations of real-world objects that machine learning (ML) and artificial intelligence (AI) systems use to understand complex knowledge domains\n",
    "- algorithms understand that the difference between 2 and 3 is 1, indicating a close relationship between 2 and 3 as compared to 2 and 100\n",
    "- a bird-nest and a lion-den are analogous pairs, while day-night are opposite terms\n",
    "- embeddings convert real-world objects into complex mathematical representations that capture inherent properties and relationships between real-world data\n",
    "\n",
    "## Use cases\n",
    "1. Q&A\n",
    "- embeddings generation paired with a vector database allow you to find close matches between questions and content in a knowledge repository\n",
    "2. Personalized recommendations\n",
    "- use embeddings to find vacation destinations, colleges, vehicles, or other products based on the criteria provided by the user\n",
    "- this could take the form of a simple list of matches, or you could then use an LLM to process each recommendation and explain how it satisfies the user’s criteria\n",
    "- you could also use this approach to generate custom “10 best” articles for a user based on their specific needs.\n",
    "3. Data management\n",
    "- you have data sources that don’t map cleanly to each other, but you do have text content that describes the data record, you can use embeddings to identify potential duplicate records\n",
    "4. Content grouping\n",
    "- use embeddings to help facilitate grouping similar content into categories that you might not know ahead of time\n",
    "\n",
    "## Benefits\n",
    "### 1. Reduce data dimensionality\n",
    "- in data science, the term dimension typically refers to a feature or attribute of the data\n",
    "- higher-dimensional data in AI refers to datasets with many features or attributes that define each data point\n",
    "- an image can be considered high-dimensional data because each pixel color value is a separate dimension\n",
    "- embeddings reduce the number of dimensions by identifying commonalities and patterns between various features. This consequently reduces the computing resources and time required to process raw data\n",
    "\n",
    "### 2. Train large language models\n",
    "- clean the training data from irregularities affecting model learning\n",
    "- repurpose pre-trained models by adding new embeddings for transfer learning\n",
    "\n",
    "## Types of embeddings:\n",
    "### 1. Image embeddings\n",
    "- object detection, image recognition, and other visual-related tasks\n",
    "Example: `Tesla Vision`\n",
    "### 2. Text embeddings\n",
    "- natural language processing software can more accurately understand the context and relationships of words\n",
    "Example: `ChatGPT`, `Google Search`\n",
    "### 3. Audio embeddings\n",
    "- extract patterns identifying genre, words, beats\n",
    "Example: `Shazam`\n",
    "### 4. Knowledge graph embeddings\n",
    "Example: Recommendation engines, Amazon/ emag recommended list\n",
    "\n",
    "\n",
    "## Example\n",
    "\n",
    "### Movie listing (human)\n",
    "- The Conference (Horror, 2023, Movie)\n",
    "- Upload (Comedy, 2023, TV Show, Season 3)\n",
    "- Tales from the Crypt (Horror, 1989, TV Show, Season 7)\n",
    "- Dream Scenario (Horror-Comedy, 2023, Movie)\n",
    "\n",
    "- beyond year of release, model has no concept for genre, movie/show/season\n",
    "- embedding vectors encode non-numerical data into a series of values that ML models can understand and relate\n",
    "\n",
    "### Movie listing (parsed)\n",
    "- The Conference (1.2, 2023, 20.0)\n",
    "- Upload (2.3, 2023, 35.5)\n",
    "- Tales from the Crypt (1.2, 1989, 36.7)\n",
    "- Dream Scenario (1.8, 2023, 20.0)\n",
    "\n",
    "- model could find that The Conference/Tales from the Crypt are same genre, `1.2`.\n",
    "- format, season, episode encoded shows similarity between Upload, Tales of the Crypt and The Conference/Dream Scenario\n",
    "\n",
    "## Graphic representation\n",
    "![Retrieval Flow](./images/6-embeddings-vectors.png)\n",
    "\n",
    "## How embeddings work\n",
    "- `one-hot encoding` maps categorical forms to learnable forms\n",
    "\n",
    "### Example\n",
    "#### Human view\n",
    "| Fruits  | Price |\n",
    "| ------- | ----- |\n",
    "| Apple   |  3.0  |\n",
    "| Orange  |  5.0  |\n",
    "| Carrot  |  10.0 |\n",
    "\n",
    "####  `one-hot encoding` view\n",
    "| Apple  | Orange | Pear | Price |\n",
    "| ------ | ------ | ---- | ----- |\n",
    "|   1    |   0    |  0   |  3.0  |\n",
    "|   0    |   1    |  0   |  5.0  |\n",
    "|   0    |   0    |  1   |  10.0 |\n",
    "\n",
    "- [1,0,0,3.00], [0,1,0,5.00], [0,0,1,10.00]\n",
    "\n",
    "- as more categories are added, more space with sparsely populated values\n",
    "- embeddings ensure vectors remain manageable with expanding input features\n",
    "- dimensionality reduction allows embeddings to retain information that ML models use to find similarities and differences from input data\n",
    "\n",
    "## Embedding models\n",
    "- embedding models are algorithms trained to encapsulate information into dense representations in a multi-dimensional space\n",
    "\n",
    "Example models: `Principal component analysis`, `Singular value decomposition`, `Word2Vec`, `BERT`\n",
    "\n",
    "### How are embedding models created\n",
    "- neural networks used to create \n",
    "- one of the hidden layers learns how to factorize input features into vectors. This occurs before feature processing layers\n",
    "\n",
    "1. Engineers feed the neural network with some vectorized samples prepared manually.\n",
    "2. The neural network learns from the patterns discovered in the sample and uses the knowledge to make accurate predictions from unseen data.\n",
    "3. Occasionally, engineers may need to fine-tune the model to ensure it distributes input features into the appropriate dimensional space. \n",
    "4. Over time, the embeddings operate independently, allowing the ML models to generate recommendations from the vectorized representations. \n",
    "5. Engineers continue to monitor the performance of the embedding and fine-tune with new data.\n",
    "\n",
    "# How embeddings fits in to our current journey\n",
    "\n",
    "We can use `embedding models` to generate the `embedding vectors` that we place in a `vector store`. **This is the offline data preparation step**\n",
    "\n",
    "![Data flow](./images/6-embeddings-data-flow.jpg)\n",
    "\n",
    "At a high level this component will be a part of the following:\n",
    "\n",
    "![High level flow](./images/6-embeddings-high-level.png)"
   ]
  },
  {
   "cell_type": "markdown",
   "metadata": {},
   "source": [
    "## Import dependencies"
   ]
  },
  {
   "cell_type": "code",
   "execution_count": 1,
   "metadata": {},
   "outputs": [],
   "source": [
    "var BedrockEmbeddings = require('@langchain/community/embeddings/bedrock').BedrockEmbeddings;\n",
    "var fs = require('fs');\n"
   ]
  },
  {
   "cell_type": "markdown",
   "metadata": {},
   "source": [
    "## Instantiate the `embeddings model` client"
   ]
  },
  {
   "cell_type": "code",
   "execution_count": 2,
   "metadata": {},
   "outputs": [],
   "source": [
    "var embeddingsClient = new BedrockEmbeddings({\n",
    "    model:'amazon.titan-embed-text-v2:0',\n",
    "    region:'us-east-1'\n",
    "});"
   ]
  },
  {
   "cell_type": "markdown",
   "metadata": {},
   "source": [
    "## Load data into memory\n",
    "\n",
    "- also remove empty lines, basic data cleanup step"
   ]
  },
  {
   "cell_type": "code",
   "execution_count": 3,
   "metadata": {},
   "outputs": [],
   "source": [
    "var embeddingData = [];\n",
    "var inputData = fs.readFileSync('/workspace/packages/llm/src/notebooks/data/6-letter.txt', 'utf-8').split('\\n').filter(row => row.trim() !== ''); // remove empty rows"
   ]
  },
  {
   "cell_type": "markdown",
   "metadata": {},
   "source": [
    "## Create embedding container\n",
    "\n",
    "- will hold original data and the embedding equivalent outputted from the embedding model"
   ]
  },
  {
   "cell_type": "code",
   "execution_count": 4,
   "metadata": {},
   "outputs": [],
   "source": [
    "class EmbedItem {\n",
    "    constructor(text) {\n",
    "        this.text = text;\n",
    "        this.embedding = null;\n",
    "        this.init();\n",
    "    }\n",
    "    init() {\n",
    "        embeddingsClient.embedQuery(this.text).then((embedding) => {this.embedding = embedding});\n",
    "    }\n",
    "}"
   ]
  },
  {
   "cell_type": "markdown",
   "metadata": {},
   "source": [
    "## Generate embeddings"
   ]
  },
  {
   "cell_type": "code",
   "execution_count": 5,
   "metadata": {},
   "outputs": [
    {
     "data": {
      "text/plain": [
       "33"
      ]
     },
     "execution_count": 5,
     "metadata": {},
     "output_type": "execute_result"
    }
   ],
   "source": [
    "for (let text of inputData) {\n",
    "   embeddingData.push(new EmbedItem(text));\n",
    "}"
   ]
  },
  {
   "cell_type": "markdown",
   "metadata": {},
   "source": [
    "## Embeddings output"
   ]
  },
  {
   "cell_type": "code",
   "execution_count": null,
   "metadata": {},
   "outputs": [],
   "source": [
    "console.log(embeddingData);"
   ]
  },
  {
   "cell_type": "markdown",
   "metadata": {},
   "source": [
    "## Similarity\n",
    "\n",
    "- now we have embeddings generated from text\n",
    "- we now can see the relationship between them, what is the similarity of a given input to the entire data set\n",
    "- there are various algorithms that can be used to compute this given a `feature vectors` dataset\n",
    "- one of them is `Cosine similarity`\n",
    "- more details [here](https://en.wikipedia.org/wiki/Cosine_similarity)\n",
    "\n",
    "### Cosine Similarity\n",
    "![Cosine similarity](./images/6-embeddings-cosine.png)"
   ]
  },
  {
   "cell_type": "markdown",
   "metadata": {},
   "source": [
    "## Cosine similarity implementation\n",
    "\n",
    "- we can leverage existing library for advanced mathematical functions\n",
    "\n",
    "```shell\n",
    "yarn add mathjs\n",
    "```"
   ]
  },
  {
   "cell_type": "code",
   "execution_count": 6,
   "metadata": {},
   "outputs": [],
   "source": [
    "var math = require('mathjs');\n",
    "\n",
    "function calculateCosineSimilarity(a, b) {\n",
    "    return math.dot(a, b) / (math.norm(a) * math.norm(b));\n",
    "}"
   ]
  },
  {
   "cell_type": "markdown",
   "metadata": {},
   "source": [
    "## Find most similar data point to given input using cosine similarity"
   ]
  },
  {
   "cell_type": "code",
   "execution_count": 7,
   "metadata": {},
   "outputs": [
    {
     "data": {
      "text/plain": [
       "Promise { <pending> }"
      ]
     },
     "execution_count": 7,
     "metadata": {},
     "output_type": "execute_result"
    },
    {
     "name": "stdout",
     "output_type": "stream",
     "text": [
      "[\n",
      "  -0.035174266,    0.014952936,  -0.031765305,   -0.03610398,    0.011311548,\n",
      "    0.03393464,    0.042147137, -0.0015688961,   0.022158237,    0.017122274,\n",
      "  -0.075926825,  -0.0062755845,  -0.027426628, -0.0079800645,   0.0071665626,\n",
      "  -0.016424987,    0.026806818,   0.010226878,  -0.025102338,    0.058262218,\n",
      "  -0.031455398,    0.017122274,   0.017044798,  0.0008958203,    -0.03548417,\n",
      "   -0.01402322,     0.04245704,  -0.022313189,   0.043386757, -0.00087160897,\n",
      "    0.05082449,     0.04183723,  -0.011543976,    0.00573325,   0.0062368466,\n",
      "    0.04679572,    0.019833947,   0.041527323,  -0.012163787,    0.005113439,\n",
      "   0.022778047,     0.03331483, -0.0015882653,   0.015960129,   -0.013713314,\n",
      "    0.03331483,   -0.021693379,   0.036878742,  -0.043696664,     -0.0514443,\n",
      "   0.015805176,    0.042766947,  -0.031765305,    0.04121742,   -0.053923544,\n",
      "      0.091732,    0.010691737,  -0.014488078,    0.06693957,   0.0085998755,\n",
      "  -0.049274962,   -0.031455398,  -0.014720507,  0.0023436598,    0.026806818,\n",
      "  -0.029441014,    0.006314323,    -0.0632207,  0.0014139435,    0.008135017,\n",
      "   0.016579939,   0.0009587699,  0.0055395593,    0.02060871,  -0.0015592116,\n",
      "    0.03037073, -0.00078444806,  -0.048965055,  0.0058107264,     0.01913666,\n",
      "  -0.038583223,    -0.02339786,    0.04059761,   0.023087952,     0.06012165,\n",
      "   0.008948519,     0.03223016,   -0.01061426,  -0.013945743,    0.022003284,\n",
      "  -0.022158237,   -0.019833947,   0.016502462,  -0.045556094,    0.050514583,\n",
      "  -0.048345245,    0.004648581, 0.00035832814,  -0.037963413,   -0.005462083,\n",
      "  ... 924 more items\n",
      "]\n"
     ]
    }
   ],
   "source": [
    "var input = \"looked hard at how we were working together as a team and asked our corporate employees\";\n",
    "var inputEmbedding = null;\n",
    "embeddingsClient.embedQuery(input).then((embedding) => {\n",
    "    inputEmbedding = embedding\n",
    "    console.log(inputEmbedding);\n",
    "});"
   ]
  },
  {
   "cell_type": "code",
   "execution_count": 8,
   "metadata": {},
   "outputs": [],
   "source": [
    "class ComparisonResult {\n",
    "    constructor(text, similarity) {\n",
    "        this.text = text;\n",
    "        this.similarity = similarity;\n",
    "    }\n",
    "}"
   ]
  },
  {
   "cell_type": "code",
   "execution_count": 9,
   "metadata": {},
   "outputs": [
    {
     "name": "stdout",
     "output_type": "stream",
     "text": [
      "0.284783 \t We also looked hard at how we were working together as a team and asked our corporate employees to come back to the office at least three days a week, beginning in May. During the pandemic, our employees rallied to get work done from home and did everything possible to keep up with the unexpected circumstances that presented themselves. It was impressive and I’m proud of the way our collective team came together to overcome unprecedented challenges for our customers, communities, and business. But, we don’t think it’s the best long-term approach. We’ve become convinced that collaborating and inventing is easier and more effective when we’re working together and learning from one another in person. The energy and riffing on one another’s ideas happen more freely, and many of the best Amazon inventions have had their breakthrough moments from people staying behind after a meeting and working through ideas on a whiteboard, or continuing the conversation on the walk back from a meeting, or just popping by a teammate’s office later that day with another thought. Invention is often messy. It wanders and meanders and marinates. Serendipitous interactions help it, and there are more of those in-person than virtually. It’s also significantly easier to learn, model, practice, and strengthen our culture when we’re in the office together most of the time and surrounded by our colleagues. Innovation and our unique culture have been incredibly important in our first 29 years as a company, and I expect it will be comparably so in the next 29.\n",
      "0.276919 \t Over the last several months, we took a deep look across the company, business by business, invention by invention, and asked ourselves whether we had conviction about each initiative’s long-term potential to drive enough revenue, operating income, free cash flow, and return on invested capital. In some cases, it led to us shuttering certain businesses. For instance, we stopped pursuing physical store concepts like our Bookstores and 4 Star stores, closed our Amazon Fabric and Amazon Care efforts, and moved on from some newer devices where we didn’t see a path to meaningful returns. In other cases, we looked at some programs that weren’t producing the returns we’d hoped (e.g. free shipping for all online grocery orders over $35) and amended them. We also reprioritized where to spend our resources, which ultimately led to the hard decision to eliminate 27,000 corporate roles. There are a number of other changes that we’ve made over the last several months to streamline our overall costs, and like most leadership teams, we’ll continue to evaluate what we’re seeing in our business and proceed adaptively.\n",
      "0.241425 \t When we look at new investment opportunities, we ask ourselves a few questions:\n",
      "0.168098 \t I strongly believe that our best days are in front of us, and I look forward to working with my teammates at Amazon to make it so.\n",
      "0.159948 \t Do we have a differentiated approach?\n",
      "0.154320 \t If we like the answers to those questions, then we’ll invest. This process has led to some expansions that seem straightforward, and others that some folks might not have initially guessed.\n",
      "0.138555 \t As I sit down to write my second annual shareholder letter as CEO, I find myself optimistic and energized by what lies ahead for Amazon. Despite 2022 being one of the harder macroeconomic years in recent memory, and with some of our own operating challenges to boot, we still found a way to grow demand (on top of the unprecedented growth we experienced in the first half of the pandemic). We innovated in our largest businesses to meaningfully improve customer experience short and long term. And, we made important adjustments in our investment decisions and the way in which we’ll invent moving forward, while still preserving the long-term investments that we believe can change the future of Amazon for customers, shareholders, and employees.\n",
      "0.117501 \t Change is always around the corner. Sometimes, you proactively invite it in, and sometimes it just comes a-knocking. But, when you see it’s coming, you have to embrace it. And, the companies that do this well over a long period of time usually succeed. I’m optimistic about our future prospects because I like the way our team is responding to the changes we see in front of us.\n",
      "0.110651 \t And, do we have competence in that area? And if not, can we acquire it quickly?\n",
      "0.105161 \t If we were successful, could it be big and have a reasonable return on invested capital?\n",
      "0.100428 \t While it’s tempting in turbulent times only to focus on your existing large businesses, to build a sustainable, long-lasting, growing company that helps customers across a large number of dimensions, you can’t stop inventing and working on long-term customer experiences that can meaningfully impact customers and your company.\n",
      "0.091590 \t The earliest example is when we chose to expand from just selling Books, to adding categories like Music, Video, Electronics, and Toys. Back then (1998-1999), it wasn’t universally applauded, but in retrospect, it seems fairly obvious.\n",
      "0.067646 \t During the early part of the pandemic, with many physical stores shut down, our consumer business grew at an extraordinary clip, with annual revenue increasing from $245B in 2019 to $434B in 2022. This meant that we had to double the fulfillment center footprint that we’d built over the prior 25 years and substantially accelerate building a last-mile transportation network that’s now the size of UPS (along with a new sortation center network to assist with efficiency and speed when items needed to traverse long distances)—all in the span of about two years. This was no easy feat, and hundreds of thousands of Amazonians worked very hard to make this happen. However, not surprisingly, with that rate and scale of change, there was a lot of optimization needed to yield the intended productivity. Over the last several months, we’ve scrutinized every process path in our fulfillment centers and transportation network and redesigned scores of processes and mechanisms, resulting in steady productivity gains and cost reductions over the last few quarters. There’s more work to do, but we’re pleased with our trajectory and the meaningful upside in front of us.\n",
      "0.061923 \t A critical challenge we’ve continued to tackle is the rising cost to serve in our Stores fulfillment network (i.e. the cost to get a product from Amazon to a customer)—and we’ve made several changes that we believe will meaningfully improve our fulfillment costs and speed of delivery.\n",
      "0.061792 \t Amazon Business is another example of an investment where our ecommerce and logistics capabilities position us well to pursue this large market segment. Amazon Business allows businesses, municipalities, and organizations to procure products like office supplies and other bulk items easily and at great savings. While some areas of the economy have struggled over the past few years, Amazon Business has thrived. Why? Because the team has translated what it means to deliver selection, value, and convenience into a business procurement setting, constantly listening to and learning from customers, and innovating on their behalf. Some people have never heard of Amazon Business, but, our business customers love it. Amazon Business launched in 2015 and today drives roughly $35B in annualized gross sales. More than six million active customers, including 96 of the global Fortune 100 companies, are enjoying Amazon Business’ one-stop shopping, real-time analytics, and broad selection on hundreds of millions of business supplies. We believe that we’ve only scratched the surface of what’s possible to date, and plan to keep building the features our business customers tell us they need and want.\n",
      "0.059350 \t Is the opportunity being well-served today?\n",
      "0.047646 \t There have also been times when macroeconomic conditions or operating inefficiencies have presented us with new challenges. For instance, in the 2001 dot-com crash, we had to secure letters of credit to buy inventory for the holidays, streamline costs to deliver better profitability for the business, yet still prioritized the long-term customer experience and business we were trying to build (if you remember, we actually lowered prices in most of our categories during that tenuous 2001 period). You saw this sort of balancing again in 2008-2009 as we endured the recession provoked by the mortgage-backed securities financial crisis. We took several actions to manage the cost structure and efficiency of our Stores business, but we also balanced this streamlining with investment in customer experiences that we believed could be substantial future businesses with strong returns for shareholders. In 2008, AWS was still a fairly small, fledgling business. We knew we were on to something, but it still required substantial capital investment. There were voices inside and outside of the company questioning why Amazon (known mostly as an online retailer then) would be investing so much in cloud computing. But, we knew we were inventing something special that could create a lot of value for customers and Amazon in the future. We had a head start on potential competitors; and if anything, we wanted to accelerate our pace of innovation. We made the long-term decision to continue investing in AWS. Fifteen years later, AWS is now an $85B annual revenue run rate business, with strong profitability, that has transformed how customers from start-ups to multinational companies to public sector organizations manage their technology infrastructure. Amazon would be a different company if we’d slowed investment in AWS during that 2008-2009 period.\n",
      "0.047208 \t The same could be said for our international Stores expansion. In 2022, our international consumer segment drove $118B of revenue. In our larger, established international consumer businesses, we’re big enough to be impacted by the slowing macroeconomic conditions; however, the growth in 2019-2021 on a large base was remarkable—30% compound annual growth rate (“CAGR”) in the UK, 26% in Germany, and 21% in Japan (excluding the impact of FX). Over the past several years, we’ve invested in new international geographies, including India, Brazil, Mexico, Australia, various European countries, the Middle East, and parts of Africa. These new countries take a certain amount of fixed investment to get started and to scale, but we like the trajectory they’re on, and their growth patterns resemble what we’ve seen in North America and our established international geographies. Emerging countries sometimes lack some of the infrastructure and services that our business relies on (e.g. payment methods, transportation services, and internet/telecom infrastructure). To solve these challenges, we continue to work with various partners to deliver solutions for customers. Ultimately, we believe that this investment in serving a broader geographical footprint will allow us to help more customers across the world, as well as build a larger free cash flow-generating consumer business.\n",
      "0.044591 \t While there were an unusual number of simultaneous challenges this past year, the reality is that if you operate in large, dynamic, global market segments with many capable and well-funded competitors (the conditions in which Amazon operates all of its businesses), conditions rarely stay stagnant for long.\n",
      "0.042283 \t While many brands and merchants successfully sell their products on Amazon’s marketplace, there are also a large number of brands and sellers who have launched their own direct-to-consumer websites. One of the challenges for these merchants is driving conversion from views to purchases. We invented Buy with Prime to help with this challenge. Buy with Prime allows third-party brands and sellers to offer their products on their own websites to our large Amazon Prime membership, and offer those customers fast, free Prime shipping and seamless checkout with their Amazon account. Buy with Prime provides merchants several additional benefits, including Amazon handling the product storage, picking, packing, delivery, payment, and any returns, all through Amazon Pay and Fulfillment by Amazon. Buy with Prime has recently been made available to all US merchants; and so far, Buy with Prime has increased shopper conversion on third-party shopping sites by 25% on average. Merchants are excited about converting more sales and fulfilling these shipments more easily, Prime members love that they can use their Prime benefits on more destinations, and Buy with Prime allows us to improve the shopping experience across more of the web.\n",
      "0.037259 \t One final investment area that I’ll mention, that’s core to setting Amazon up to invent in every area of our business for many decades to come, and where we’re investing heavily is Large Language Models (“LLMs”) and Generative AI. Machine learning has been a technology with high promise for several decades, but it’s only been the last five to ten years that it’s started to be used more pervasively by companies. This shift was driven by several factors, including access to higher volumes of compute capacity at lower prices than was ever available. Amazon has been using machine learning extensively for 25 years, employing it in everything from personalized ecommerce recommendations, to fulfillment center pick paths, to drones for Prime Air, to Alexa, to the many machine learning services AWS offers (where AWS has the broadest machine learning functionality and customer base of any cloud provider). More recently, a newer form of machine learning, called Generative AI, has burst onto the scene and promises to significantly accelerate machine learning adoption. Generative AI is based on very Large Language Models (trained on up to hundreds of billions of parameters, and growing), across expansive datasets, and has radically general and broad recall and learning capabilities. We have been working on our own LLMs for a while now, believe it will transform and improve virtually every customer experience, and will continue to invest substantially in these models across all of our consumer, seller, brand, and creator experiences. Additionally, as we’ve done for years in AWS, we’re democratizing this technology so companies of all sizes can leverage Generative AI. AWS is offering the most price-performant machine learning chips in Trainium and Inferentia so small and large companies can afford to train and run their LLMs in production. We enable companies to choose from various LLMs and build applications with all of the AWS security, privacy and other features that customers are accustomed to using. And, we’re delivering applications like AWS’s CodeWhisperer, which revolutionizes developer productivity by generating code suggestions in real time. I could write an entire letter on LLMs and Generative AI as I think they will be that transformative, but I’ll leave that for a future letter. Let’s just say that LLMs and Generative AI are going to be a big deal for customers, our shareholders, and Amazon.\n",
      "0.036185 \t We also took this occasion to make larger structural changes that set us up better to deliver lower costs and faster speed for many years to come. A good example was reevaluating how our US fulfillment network was organized. Until recently, Amazon operated one national US fulfillment network that distributed inventory from fulfillment centers spread across the entire country. If a local fulfillment center didn’t have the product a customer ordered, we’d end up shipping it from other parts of the country, costing us more and increasing delivery times. This challenge became more pronounced as our fulfillment network expanded to hundreds of additional nodes over the last few years, distributing inventory across more locations and increasing the complexity of connecting the fulfillment center and delivery station nodes efficiently. Last year, we started rearchitecting our inventory placement strategy and leveraging our larger fulfillment center footprint to move from a national fulfillment network to a regionalized network model. We made significant internal changes (e.g. placement and logistics software, processes, physical operations) to create eight interconnected regions in smaller geographic areas. Each of these regions has broad, relevant selection to operate in a largely self-sufficient way, while still being able to ship nationally when necessary. Some of the most meaningful and hard work came from optimizing the connections between this large amount of infrastructure. We also continue to improve our advanced machine learning algorithms to better predict what customers in various parts of the country will need so that we have the right inventory in the right regions at the right time. We’ve recently completed this regional roll out and like the early results. Shorter travel distances mean lower cost to serve, less impact on the environment, and customers getting their orders faster. On the latter, we’re excited about seeing more next day and same-day deliveries, and we’re on track to have our fastest Prime delivery speeds ever in 2023. Overall, we remain confident about our plans to lower costs, reduce delivery times, and build a meaningfully larger retail business with healthy operating margins.\n",
      "0.035458 \t So, in closing, I’m optimistic that we’ll emerge from this challenging macroeconomic time in a stronger position than when we entered it. There are several reasons for it and I’ve mentioned many of them above. But, there are two relatively simple statistics that underline our immense future opportunity. While we have a consumer business that’s $434B in 2022, the vast majority of total market segment share in global retail still resides in physical stores (roughly 80%). And, it’s a similar story for Global IT spending, where we have AWS revenue of $80B in 2022, with about 90% of Global IT spending still on-premises and yet to migrate to the cloud. As these equations steadily flip—as we’re already seeing happen—we believe our leading customer experiences, relentless invention, customer focus, and hard work will result in significant growth in the coming years. And, of course, this doesn’t include the other businesses and experiences we’re pursuing at Amazon, all of which are still in their early days.\n",
      "0.028518 \t Our initial efforts in Healthcare began with pharmacy, which felt less like a major departure from ecommerce. For years, Amazon customers had asked us when we’d offer them an online pharmacy as their frustrations mounted with current providers. Launched in 2020, Amazon Pharmacy is a full-service, online pharmacy that offers transparent pricing, easy refills, and savings for Prime members. The business is growing quickly, and continues to innovate. An example is Amazon Pharmacy’s recent launch of RxPass, which for a $5 per month flat fee, enables Prime members to get as many of the eligible prescription medications as they need for dozens of common conditions, like high blood pressure, acid reflux, and anxiety. However, our customers have continued to express a strong desire for Amazon to provide a better alternative to the inefficient and unsatisfying broader healthcare experience. We decided to start with primary care as it’s a prevalent first stop in the patient journey. We evaluated and studied the existing landscape extensively, including some early Amazon experiments like Amazon Care. During this process, we identified One Medical’s patient-focused experience as an excellent foundation upon which to build our future business; and in July 2022, we announced our acquisition of One Medical. There are several elements that customers love about One Medical. It has a fantastic digital app that makes it easy for patients to discuss issues with a medical practitioner via chat or video conference. If a physical visit is required, One Medical has offices in cities across the US where patients can book same or next day appointments. One Medical has relationships with specialty physicians in each of its cities and works closely with local hospital systems to make seeing specialists easy, so One Medical members can quickly access these resources when needed. Going forward, we strongly believe that One Medical and Amazon will continue to innovate together to change what primary care will look like for customers.\n",
      "0.021721 \t Chip development is a good example. In last year’s letter, I mentioned the investment we were making in our general-purpose CPU processors named Graviton. Graviton2-based compute instances deliver up to 40% better price-performance than the comparable latest generation x86-based instances; and in 2022, we delivered our Graviton3 chips, providing 25% better performance than the Graviton2 processors. Further, as machine learning adoption has continued to accelerate, customers have yearned for lower-cost GPUs (the chips most commonly used for machine learning). AWS started investing years ago in these specialized chips for machine learning training and inference (inferences are the predictions or answers that a machine learning model provides). We delivered our first training chip in 2022 (“Trainium”); and for the most common machine learning models, Trainium-based instances are up to 140% faster than GPU-based instances at up to 70% lower cost. Most companies are still in the training stage, but as they develop models that graduate to large-scale production, they’ll find that most of the cost is in inference because models are trained periodically whereas inferences are happening all the time as their associated application is being exercised. We launched our first inference chips (“Inferentia”) in 2019, and they have saved companies like Amazon over a hundred million dollars in capital expense already. Our Inferentia2 chip, which just launched, offers up to four times higher throughput and ten times lower latency than our first Inferentia processor. With the enormous upcoming growth in machine learning, customers will be able to get a lot more done with AWS’s training and inference chips at a significantly lower cost. We’re not close to being done innovating here, and this long-term investment should prove fruitful for both customers and AWS. AWS is still in the early stages of its evolution, and has a chance for unusual growth in the next decade.\n",
      "0.015899 \t We strive to be the best place for advertisers to build their brands. We have near and long-term opportunities that will help us achieve that mission. We’re continuing to make large investments in machine learning to keep honing our advertising selection algorithms. For the past couple of years, we’ve invested in building comprehensive, flexible, and durable planning and measurement solutions, giving marketers greater insight into advertising effectiveness. An example is Amazon Marketing Cloud (“AMC”). AMC is a “clean room” (i.e. secure digital environment) in which advertisers can run custom audience and campaign analytics across a range of first and third-party inputs, in a privacy-safe manner, to generate advertising and business insights to inform their broader marketing and sales strategies. The Advertising and AWS teams have collaborated to enable companies to store their data in AWS, operate securely in AMC with Amazon and other third-party data sources, perform analytics in AWS, and have the option to activate advertising on Amazon or third-party publishers through the Amazon Demand-Side Platform. Customers really like this concerted capability. We also see future opportunity to thoughtfully integrate advertising into our video, live sports, audio, and grocery products. We’ll continue to work hard to help brands uniquely engage with the right audience, and grow this part of our business.\n",
      "0.015329 \t While these short-term headwinds soften our growth rate, we like a lot of the fundamentals that we’re seeing in AWS. Our new customer pipeline is robust, as are our active migrations. Many companies use discontinuous periods like this to step back and determine what they strategically want to change, and we find an increasing number of enterprises opting out of managing their own infrastructure, and preferring to move to AWS to enjoy the agility, innovation, cost-efficiency, and security benefits. And most importantly for customers, AWS continues to deliver new capabilities rapidly (over 3,300 new features and services launched in 2022), and invest in long-term inventions that change what’s possible.\n",
      "0.003656 \t In the 25 years I’ve been at Amazon, there has been constant change, much of which we’ve initiated ourselves. When I joined Amazon in 1997, we had booked $15M in revenue in 1996, were a books-only retailer, did not have a third-party marketplace, and only shipped to addresses in the US. Today, Amazon sells nearly every physical and digital retail item you can imagine, with a vibrant third-party seller ecosystem that accounts for 60% of our unit sales, and reaches customers in virtually every country around the world. Similarly, building a business around a set of technology infrastructure services in the cloud was not obvious in 2003 when we started pursuing AWS, and still wasn’t when we launched our first services in 2006. Having virtually every book at your fingertips in 60 seconds, and then being able to store and retrieve them on a lightweight digital reader was not “a thing” yet when we launched Kindle in 2007, nor was a voice-driven personal assistant like Alexa (launched in 2014) that you could use to access entertainment, control your smart home, shop, and retrieve all sorts of information.\n",
      "-0.003885 \t Kuiper is another example of Amazon innovating for customers over the long term in an area where there’s high customer need. Our vision for Kuiper is to create a low-Earth orbit satellite system to deliver high-quality broadband internet service to places around the world that don’t currently have it. There are hundreds of millions of households and businesses who don’t have reliable access to the internet. Imagine what they’ll be able to do with reliable connectivity, from people taking online education courses, using financial services, starting their own businesses, doing their shopping, enjoying entertainment, to businesses and governments improving their coverage, efficiency, and operations. Kuiper will deliver not only accessibility, but affordability. Our teams have developed low-cost antennas (i.e. customer terminals) that will lower the barriers to access. We recently unveiled the new terminals that will communicate with the satellites passing overhead, and we expect to be able to produce our standard residential version for less than $400 each. They’re small: 11 inches square, 1 inch thick, and weigh less than 5 pounds without their mounting bracket, but they deliver speeds up to 400 megabits per second. And they’re powered by Amazon-designed baseband chips. We’re preparing to launch two prototype satellites to test the entire end-to-end communications network this year, and plan to be in beta with commercial customers in 2024. The customer reaction to what we’ve shared thus far about Kuiper has been very positive, and we believe Kuiper represents a very large potential opportunity for Amazon. It also shares several similarities to AWS in that it’s capital intensive at the start, but has a large prospective consumer, enterprise, and government customer base, significant revenue and operating profit potential, and relatively few companies with the technical and inventive aptitude, as well as the investment hypothesis to go after it.\n",
      "-0.005098 \t Beyond geographic expansion, we’ve been working to expand our customer offerings across some large, unique product retail market segments. Grocery is an $800B market segment in the US alone, with the average household shopping three to four times per week. Amazon has built a somewhat unusual, but significant grocery business over nearly 20 years. Similar to how other mass merchants entered the grocery space in the 1980s, we began by adding products typically found in supermarket aisles that don’t require temperature control such as paper products, canned and boxed food, candy and snacks, pet care, health and personal care, and beauty. However, we offer more than three million items compared to a typical supermarket’s 30K for the same categories. To date, we’ve also focused on larger pack sizes, given the current cost to serve online delivery. While we’re pleased with the size and growth of our grocery business, we aspire to serve more of our customers’ grocery needs than we do today. To do so, we need a broader physical store footprint given that most of the grocery shopping still happens in physical venues. Whole Foods Market pioneered the natural and organic specialty grocery store concept 40 years ago. Today, it’s a large and growing business that continues to raise the bar for healthy and sustainable food. Over the past year, we’ve continued to invest in the business while also making changes to drive better profitability. Whole Foods is on an encouraging path, but to have a larger impact on physical grocery, we must find a mass grocery format that we believe is worth expanding broadly. Amazon Fresh is the brand we’ve been experimenting with for a few years, and we’re working hard to identify and build the right mass grocery format for Amazon scale. Grocery is a big growth opportunity for Amazon.\n",
      "-0.007003 \t AWS has an $85B annualized revenue run rate, is still early in its adoption curve, but at a juncture where it’s critical to stay focused on what matters most to customers over the long-haul. Despite growing 29% year-over-year (“YoY”) in 2022 on a $62B revenue base, AWS faces short-term headwinds right now as companies are being more cautious in spending given the challenging, current macroeconomic conditions. While some companies might obsess over how they could extract as much money from customers as possible in these tight times, it’s neither what customers want nor best for customers in the long term, so we’re taking a different tack. One of the many advantages of AWS and cloud computing is that when your business grows, you can seamlessly scale up; and conversely, if your business contracts, you can choose to give us back that capacity and cease paying for it. This elasticity is unique to the cloud, and doesn’t exist when you’ve already made expensive capital investments in your own on-premises datacenters, servers, and networking gear. In AWS, like all our businesses, we’re not trying to optimize for any one quarter or year. We’re trying to build customer relationships (and a business) that outlast all of us; and as a result, our AWS sales and support teams are spending much of their time helping customers optimize their AWS spend so they can better weather this uncertain economy. Many of these AWS customers tell us that they’re not cost-cutting as much as cost-optimizing so they can take their resources and apply them to emerging and inventive new customer experiences they’re planning. Customers have appreciated this customer-focused, long-term approach, and we think it’ll bode well for both customers and AWS.\n",
      "-0.010786 \t Expanding internationally, pursuing large retail market segments that are still nascent for Amazon, and using our unique assets to help merchants sell more effectively on their own websites are somewhat natural extensions for us. There are also a few investments we’re making that are further from our core businesses, but where we see unique opportunity. In 2003, AWS would have been a classic example. In 2023, Amazon Healthcare and Kuiper are potential analogues.\n",
      "-0.015189 \t Similarly high potential, Amazon’s Advertising business is uniquely effective for brands, which is part of why it continues to grow at a brisk clip. Akin to physical retailers’ advertising businesses selling shelf space, end-caps, and placement in their circulars, our sponsored products and brands offerings have been an integral part of the Amazon shopping experience for more than a decade. However, unlike physical retailers, Amazon can tailor these sponsored products to be relevant to what customers are searching for given what we know about shopping behaviors and our very deep investment in machine learning algorithms. This leads to advertising that’s more useful for customers; and as a result, performs better for brands. This is part of why our Advertising revenue has continued to grow rapidly (23% YoY in Q4 2022, 25% YoY overall for 2022 on a $31B revenue base), even as most large advertising-focused businesses’ growth have slowed over the last several quarters.\n"
     ]
    }
   ],
   "source": [
    "var cosineComparisons = [];\n",
    "\n",
    "for (var embeddingItem of embeddingData) {\n",
    "    var similarityScore = calculateCosineSimilarity(embeddingItem.embedding, inputEmbedding);\n",
    "    \n",
    "    cosineComparisons.push(new ComparisonResult(embeddingItem.text, similarityScore));\n",
    "}\n",
    "\n",
    "cosineComparisons.sort((a, b) => b.similarity - a.similarity); // sort in decreasing similiarity order\n",
    "\n",
    "for (let c of cosineComparisons) {\n",
    "    console.log(c.similarity.toFixed(6), \"\\t\", c.text);\n",
    "}"
   ]
  }
 ],
 "metadata": {
  "kernelspec": {
   "display_name": "JavaScript (Node.js)",
   "language": "javascript",
   "name": "javascript"
  },
  "language_info": {
   "file_extension": ".js",
   "mimetype": "application/javascript",
   "name": "javascript",
   "version": "20.12.2"
  }
 },
 "nbformat": 4,
 "nbformat_minor": 2
}
