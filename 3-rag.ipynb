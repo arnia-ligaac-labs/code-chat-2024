{
 "cells": [
  {
   "cell_type": "code",
   "execution_count": null,
   "metadata": {},
   "outputs": [],
   "source": [
    "import ragutil as glib\n",
    "\n",
    "memory = glib.get_memory()\n",
    "index = glib.get_index()"
   ]
  },
  {
   "cell_type": "code",
   "execution_count": null,
   "metadata": {},
   "outputs": [],
   "source": [
    "input_text = input(\"Message:\")\n",
    "\n",
    "\n",
    "chat_response = glib.get_rag_chat_response(input_text=input_text, memory=memory, index=index,)\n",
    "print(chat_response)"
   ]
  },
  {
   "cell_type": "code",
   "execution_count": null,
   "metadata": {},
   "outputs": [],
   "source": [
    "input_text = input(\"Message:\")\n",
    "\n",
    "\n",
    "chat_response = glib.get_rag_chat_response(input_text=input_text, memory=memory, index=index,)\n",
    "print(chat_response)"
   ]
  },
  {
   "cell_type": "code",
   "execution_count": null,
   "metadata": {},
   "outputs": [],
   "source": [
    "input_text = input(\"Message:\")\n",
    "\n",
    "\n",
    "chat_response = glib.get_rag_chat_response(input_text=input_text, memory=memory, index=index,)\n",
    "print(chat_response)"
   ]
  }
 ],
 "metadata": {
  "kernelspec": {
   "display_name": "Python 3",
   "language": "python",
   "name": "python3"
  },
  "language_info": {
   "codemirror_mode": {
    "name": "ipython",
    "version": 3
   },
   "file_extension": ".py",
   "mimetype": "text/x-python",
   "name": "python",
   "nbconvert_exporter": "python",
   "pygments_lexer": "ipython3",
   "version": "3.11.9"
  }
 },
 "nbformat": 4,
 "nbformat_minor": 2
}
